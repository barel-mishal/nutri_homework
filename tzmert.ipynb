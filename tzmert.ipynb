{
 "cells": [
  {
   "cell_type": "markdown",
   "metadata": {},
   "source": [
    "טבלה לחישוב ערכים תזונתיים עבור שיעורי הבית"
   ]
  },
  {
   "cell_type": "code",
   "execution_count": 1,
   "metadata": {},
   "outputs": [
    {
     "name": "stdout",
     "output_type": "stream",
     "text": [
      "Name, Major:\n",
      "Alexandra, English\n",
      "Andrew, Math\n",
      "Anna, English\n",
      "Becky, Art\n",
      "Benjamin, English\n",
      "Carl, Art\n",
      "Carrie, English\n",
      "Dorothy, Math\n",
      "Dylan, Math\n",
      "Edward, English\n",
      "Ellen, Physics\n",
      "Fiona, Art\n",
      "John, Physics\n",
      "Jonathan, Math\n",
      "Joseph, English\n",
      "Josephine, Math\n",
      "Karen, English\n",
      "Kevin, Physics\n",
      "Lisa, Art\n",
      "Mary, Physics\n",
      "Maureen, Physics\n",
      "Nick, Art\n",
      "Olivia, Physics\n",
      "Pamela, Math\n",
      "Patrick, Art\n",
      "Robert, English\n",
      "Sean, Physics\n",
      "Stacy, Math\n",
      "Thomas, Art\n",
      "Will, Math\n"
     ]
    }
   ],
   "source": [
    "from __future__ import print_function\n",
    "import pickle\n",
    "import os.path\n",
    "from googleapiclient.discovery import build\n",
    "from google_auth_oauthlib.flow import InstalledAppFlow\n",
    "from google.auth.transport.requests import Request\n",
    "\n",
    "# If modifying these scopes, delete the file token.pickle.\n",
    "SCOPES = ['https://www.googleapis.com/auth/spreadsheets.readonly']\n",
    "\n",
    "# The ID and range of a sample spreadsheet.\n",
    "SAMPLE_SPREADSHEET_ID = '1BxiMVs0XRA5nFMdKvBdBZjgmUUqptlbs74OgvE2upms'\n",
    "SAMPLE_RANGE_NAME = 'Class Data!A2:E'\n",
    "\n",
    "def main():\n",
    "    \"\"\"Shows basic usage of the Sheets API.\n",
    "    Prints values from a sample spreadsheet.\n",
    "    \"\"\"\n",
    "    creds = None\n",
    "    # The file token.pickle stores the user's access and refresh tokens, and is\n",
    "    # created automatically when the authorization flow completes for the first\n",
    "    # time.\n",
    "    if os.path.exists('token.pickle'):\n",
    "        with open('token.pickle', 'rb') as token:\n",
    "            creds = pickle.load(token)\n",
    "    # If there are no (valid) credentials available, let the user log in.\n",
    "    if not creds or not creds.valid:\n",
    "        if creds and creds.expired and creds.refresh_token:\n",
    "            creds.refresh(Request())\n",
    "        else:\n",
    "            flow = InstalledAppFlow.from_client_secrets_file(\n",
    "                'credentials.json', SCOPES)\n",
    "            creds = flow.run_local_server(port=0)\n",
    "        # Save the credentials for the next run\n",
    "        with open('token.pickle', 'wb') as token:\n",
    "            pickle.dump(creds, token)\n",
    "\n",
    "    service = build('sheets', 'v4', credentials=creds)\n",
    "\n",
    "    # Call the Sheets API\n",
    "    sheet = service.spreadsheets()\n",
    "    result = sheet.values().get(spreadsheetId=SAMPLE_SPREADSHEET_ID,\n",
    "                                range=SAMPLE_RANGE_NAME).execute()\n",
    "    values = result.get('values', [])\n",
    "\n",
    "    if not values:\n",
    "        print('No data found.')\n",
    "    else:\n",
    "        print('Name, Major:')\n",
    "        for row in values:\n",
    "            # Print columns A and E, which correspond to indices 0 and 4.\n",
    "            print('%s, %s' % (row[0], row[4]))\n",
    "\n",
    "if __name__ == '__main__':\n",
    "    main()"
   ]
  },
  {
   "cell_type": "code",
   "execution_count": 1,
   "metadata": {},
   "outputs": [],
   "source": [
    "from bs4 import BeautifulSoup"
   ]
  },
  {
   "cell_type": "code",
   "execution_count": 2,
   "metadata": {},
   "outputs": [],
   "source": [
    "class Merchandise():\n",
    "    pass\n",
    "merchandises = []"
   ]
  },
  {
   "cell_type": "code",
   "execution_count": 47,
   "metadata": {},
   "outputs": [],
   "source": [
    "with open(\"html_files/0.html\", encoding=\"utf8\") as html_doc_0:\n",
    "    foods_weights = BeautifulSoup(html_doc_0, 'html.parser')  "
   ]
  },
  {
   "cell_type": "code",
   "execution_count": 48,
   "metadata": {},
   "outputs": [],
   "source": [
    "with open(\"html_files/1.html\", encoding=\"utf8\") as html_doc_1:\n",
    "    macro_clori_iron_Ca = BeautifulSoup(html_doc_1, 'html.parser')"
   ]
  },
  {
   "cell_type": "code",
   "execution_count": 49,
   "metadata": {},
   "outputs": [],
   "source": [
    "with open(\"html_files/2.html\", encoding=\"utf8\") as html_doc_2:\n",
    "    vitamins = BeautifulSoup(html_doc_2, 'html.parser')"
   ]
  },
  {
   "cell_type": "code",
   "execution_count": 50,
   "metadata": {},
   "outputs": [],
   "source": [
    "with open(\"html_files/3.html\", encoding=\"utf8\") as html_doc_3:\n",
    "    minarals = BeautifulSoup(html_doc_3, 'html.parser')"
   ]
  },
  {
   "cell_type": "code",
   "execution_count": 99,
   "metadata": {},
   "outputs": [],
   "source": [
    "merchandises = []\n",
    "rows = foods_Weights.select(\"table[border]  tr\")\n",
    "for food in rows:\n",
    "    name_food = food.select('tr td[align=\"right\"]')\n",
    "    if name_food:\n",
    "        merchandise = Merchandise()\n",
    "        merchandise.foods = name_food[3].get_text()\n",
    "        merchandise.weigh = name_food[0].get_text()\n",
    "        merchandises.append(merchandise)"
   ]
  },
  {
   "cell_type": "code",
   "execution_count": 108,
   "metadata": {},
   "outputs": [
    {
     "name": "stdout",
     "output_type": "stream",
     "text": [
      "\n",
      "\n",
      "106\n",
      "10\n",
      "150\n",
      "212\n",
      "108\n",
      "42\n",
      "81\n",
      "1752\n",
      "144\n",
      "1034\n"
     ]
    },
    {
     "ename": "AttributeError",
     "evalue": "'Merchandise' object has no attribute 'cloris'",
     "output_type": "error",
     "traceback": [
      "\u001b[1;31m---------------------------------------------------------------------------\u001b[0m",
      "\u001b[1;31mAttributeError\u001b[0m                            Traceback (most recent call last)",
      "\u001b[1;32m<ipython-input-108-9da693831f75>\u001b[0m in \u001b[0;36m<module>\u001b[1;34m\u001b[0m\n\u001b[0;32m     17\u001b[0m         \u001b[0mprint\u001b[0m\u001b[1;33m(\u001b[0m\u001b[0mmerchandise\u001b[0m\u001b[1;33m.\u001b[0m\u001b[0mcloris\u001b[0m\u001b[1;33m)\u001b[0m\u001b[1;33m\u001b[0m\u001b[1;33m\u001b[0m\u001b[0m\n\u001b[0;32m     18\u001b[0m \u001b[1;33m\u001b[0m\u001b[0m\n\u001b[1;32m---> 19\u001b[1;33m \u001b[0mtry_me\u001b[0m \u001b[1;33m=\u001b[0m \u001b[1;33m[\u001b[0m\u001b[0mi\u001b[0m\u001b[1;33m.\u001b[0m\u001b[0mfoods\u001b[0m \u001b[1;32mfor\u001b[0m \u001b[0mi\u001b[0m \u001b[1;32min\u001b[0m \u001b[0mmerchandises\u001b[0m \u001b[1;32mif\u001b[0m \u001b[0mi\u001b[0m\u001b[1;33m.\u001b[0m\u001b[0mcloris\u001b[0m \u001b[1;33m==\u001b[0m \u001b[1;32mTrue\u001b[0m\u001b[1;33m]\u001b[0m\u001b[1;33m\u001b[0m\u001b[1;33m\u001b[0m\u001b[0m\n\u001b[0m",
      "\u001b[1;32m<ipython-input-108-9da693831f75>\u001b[0m in \u001b[0;36m<listcomp>\u001b[1;34m(.0)\u001b[0m\n\u001b[0;32m     17\u001b[0m         \u001b[0mprint\u001b[0m\u001b[1;33m(\u001b[0m\u001b[0mmerchandise\u001b[0m\u001b[1;33m.\u001b[0m\u001b[0mcloris\u001b[0m\u001b[1;33m)\u001b[0m\u001b[1;33m\u001b[0m\u001b[1;33m\u001b[0m\u001b[0m\n\u001b[0;32m     18\u001b[0m \u001b[1;33m\u001b[0m\u001b[0m\n\u001b[1;32m---> 19\u001b[1;33m \u001b[0mtry_me\u001b[0m \u001b[1;33m=\u001b[0m \u001b[1;33m[\u001b[0m\u001b[0mi\u001b[0m\u001b[1;33m.\u001b[0m\u001b[0mfoods\u001b[0m \u001b[1;32mfor\u001b[0m \u001b[0mi\u001b[0m \u001b[1;32min\u001b[0m \u001b[0mmerchandises\u001b[0m \u001b[1;32mif\u001b[0m \u001b[0mi\u001b[0m\u001b[1;33m.\u001b[0m\u001b[0mcloris\u001b[0m \u001b[1;33m==\u001b[0m \u001b[1;32mTrue\u001b[0m\u001b[1;33m]\u001b[0m\u001b[1;33m\u001b[0m\u001b[1;33m\u001b[0m\u001b[0m\n\u001b[0m",
      "\u001b[1;31mAttributeError\u001b[0m: 'Merchandise' object has no attribute 'cloris'"
     ]
    }
   ],
   "source": [
    "rows = macro_clori_iron_Ca.select(\"table[border]  tr\")\n",
    "counter = 0\n",
    "for macro in rows:    \n",
    "    name_macro = macro.select('tr td[align=\"right\"]')\n",
    "    if name_macro and counter != 12:\n",
    "        merchandise = Merchandise()\n",
    "        merchandise.saturated_fat = name_macro[2].get_text()\n",
    "        merchandise.iron = name_macro[4].get_text()\n",
    "        merchandise.Ca = name_macro[5].get_text()\n",
    "        merchandise.dietary_fiber = name_macro[8].get_text()\n",
    "        merchandise.carbohydrates = name_macro[11].get_text()\n",
    "        merchandise.fats = name_macro[12].get_text()\n",
    "        merchandise.protein = name_macro[13].get_text()\n",
    "        merchandise.cloris = name_macro[14].get_text()\n",
    "        merchandises.append(merchandise)\n",
    "        counter += 1\n",
    "        print(merchandise.cloris)\n",
    "        \n",
    "check_if_object_exist = [i.foods for i in merchandises if i.cloris == True]"
   ]
  },
  {
   "cell_type": "code",
   "execution_count": null,
   "metadata": {},
   "outputs": [],
   "source": []
  },
  {
   "cell_type": "code",
   "execution_count": null,
   "metadata": {},
   "outputs": [],
   "source": []
  }
 ],
 "metadata": {
  "kernelspec": {
   "display_name": "Python 3",
   "language": "python",
   "name": "python3"
  },
  "language_info": {
   "codemirror_mode": {
    "name": "ipython",
    "version": 3
   },
   "file_extension": ".py",
   "mimetype": "text/x-python",
   "name": "python",
   "nbconvert_exporter": "python",
   "pygments_lexer": "ipython3",
   "version": "3.8.1"
  }
 },
 "nbformat": 4,
 "nbformat_minor": 4
}
