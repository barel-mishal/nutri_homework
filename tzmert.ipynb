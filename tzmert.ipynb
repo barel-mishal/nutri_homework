{
 "cells": [
  {
   "cell_type": "markdown",
   "metadata": {},
   "source": [
    "טבלה לחישוב ערכים תזונתיים עבור שיעורי הבית"
   ]
  },
  {
   "cell_type": "code",
   "execution_count": 1,
   "metadata": {},
   "outputs": [
    {
     "name": "stdout",
     "output_type": "stream",
     "text": [
      "Name, Major:\n",
      "Alexandra, English\n",
      "Andrew, Math\n",
      "Anna, English\n",
      "Becky, Art\n",
      "Benjamin, English\n",
      "Carl, Art\n",
      "Carrie, English\n",
      "Dorothy, Math\n",
      "Dylan, Math\n",
      "Edward, English\n",
      "Ellen, Physics\n",
      "Fiona, Art\n",
      "John, Physics\n",
      "Jonathan, Math\n",
      "Joseph, English\n",
      "Josephine, Math\n",
      "Karen, English\n",
      "Kevin, Physics\n",
      "Lisa, Art\n",
      "Mary, Physics\n",
      "Maureen, Physics\n",
      "Nick, Art\n",
      "Olivia, Physics\n",
      "Pamela, Math\n",
      "Patrick, Art\n",
      "Robert, English\n",
      "Sean, Physics\n",
      "Stacy, Math\n",
      "Thomas, Art\n",
      "Will, Math\n"
     ]
    }
   ],
   "source": [
    "from __future__ import print_function\n",
    "import pickle\n",
    "import os.path\n",
    "from googleapiclient.discovery import build\n",
    "from google_auth_oauthlib.flow import InstalledAppFlow\n",
    "from google.auth.transport.requests import Request\n",
    "\n",
    "# If modifying these scopes, delete the file token.pickle.\n",
    "SCOPES = ['https://www.googleapis.com/auth/spreadsheets.readonly']\n",
    "\n",
    "# The ID and range of a sample spreadsheet.\n",
    "SAMPLE_SPREADSHEET_ID = '1BxiMVs0XRA5nFMdKvBdBZjgmUUqptlbs74OgvE2upms'\n",
    "SAMPLE_RANGE_NAME = 'Class Data!A2:E'\n",
    "\n",
    "def main():\n",
    "    \"\"\"Shows basic usage of the Sheets API.\n",
    "    Prints values from a sample spreadsheet.\n",
    "    \"\"\"\n",
    "    creds = None\n",
    "    # The file token.pickle stores the user's access and refresh tokens, and is\n",
    "    # created automatically when the authorization flow completes for the first\n",
    "    # time.\n",
    "    if os.path.exists('token.pickle'):\n",
    "        with open('token.pickle', 'rb') as token:\n",
    "            creds = pickle.load(token)\n",
    "    # If there are no (valid) credentials available, let the user log in.\n",
    "    if not creds or not creds.valid:\n",
    "        if creds and creds.expired and creds.refresh_token:\n",
    "            creds.refresh(Request())\n",
    "        else:\n",
    "            flow = InstalledAppFlow.from_client_secrets_file(\n",
    "                'credentials.json', SCOPES)\n",
    "            creds = flow.run_local_server(port=0)\n",
    "        # Save the credentials for the next run\n",
    "        with open('token.pickle', 'wb') as token:\n",
    "            pickle.dump(creds, token)\n",
    "\n",
    "    service = build('sheets', 'v4', credentials=creds)\n",
    "\n",
    "    # Call the Sheets API\n",
    "    sheet = service.spreadsheets()\n",
    "    result = sheet.values().get(spreadsheetId=SAMPLE_SPREADSHEET_ID,\n",
    "                                range=SAMPLE_RANGE_NAME).execute()\n",
    "    values = result.get('values', [])\n",
    "\n",
    "    if not values:\n",
    "        print('No data found.')\n",
    "    else:\n",
    "        print('Name, Major:')\n",
    "        for row in values:\n",
    "            # Print columns A and E, which correspond to indices 0 and 4.\n",
    "            print('%s, %s' % (row[0], row[4]))\n",
    "\n",
    "if __name__ == '__main__':\n",
    "    main()"
   ]
  },
  {
   "cell_type": "code",
   "execution_count": 5,
   "metadata": {},
   "outputs": [],
   "source": [
    "from bs4 import BeautifulSoup"
   ]
  },
  {
   "cell_type": "code",
   "execution_count": 20,
   "metadata": {},
   "outputs": [],
   "source": [
    "class Merchandise():\n",
    "    pass\n",
    "merchandises = dict()\n",
    "merchandise = Merchandise() # עותק אחד בזיכרון של סחורות"
   ]
  },
  {
   "cell_type": "code",
   "execution_count": 21,
   "metadata": {},
   "outputs": [],
   "source": [
    "with open(\"html_files/0.html\", encoding=\"utf8\") as html_doc_0:\n",
    "    foods_weights = BeautifulSoup(html_doc_0, 'html.parser')  "
   ]
  },
  {
   "cell_type": "code",
   "execution_count": 22,
   "metadata": {},
   "outputs": [],
   "source": [
    "with open(\"html_files/1.html\", encoding=\"utf8\") as html_doc_1:\n",
    "    macro_clori_iron_Ca = BeautifulSoup(html_doc_1, 'html.parser')"
   ]
  },
  {
   "cell_type": "code",
   "execution_count": 23,
   "metadata": {},
   "outputs": [],
   "source": [
    "with open(\"html_files/2.html\", encoding=\"utf8\") as html_doc_2:\n",
    "    vitamins = BeautifulSoup(html_doc_2, 'html.parser')"
   ]
  },
  {
   "cell_type": "code",
   "execution_count": 24,
   "metadata": {},
   "outputs": [],
   "source": [
    "with open(\"html_files/3.html\", encoding=\"utf8\") as html_doc_3:\n",
    "    minarals = BeautifulSoup(html_doc_3, 'html.parser')"
   ]
  },
  {
   "cell_type": "code",
   "execution_count": 25,
   "metadata": {},
   "outputs": [
    {
     "data": {
      "text/plain": [
       "{'מים ללא פירוט נוסף': ['633.'],\n",
       " 'מלח': ['2.'],\n",
       " 'שמן ליפתית - קנולה': ['12.'],\n",
       " 'חרדל': ['15.'],\n",
       " 'צימוקים, ללא חרצנים': ['50.'],\n",
       " 'שמן זית': ['24.'],\n",
       " 'בצל לבן או אדום, חי': ['269.'],\n",
       " 'קישואים, בהירים, חיים, ללא קליפה': ['262.'],\n",
       " 'פלפל אדום, חי': ['260.'],\n",
       " 'אורז מלא, לא מבושל': ['484.'],\n",
       " 'פירורי לחם, אסם': ['39.'],\n",
       " 'בשר עוף, חזה מטוגן בשמן זית': ['550.'],\n",
       " '': ['1.']}"
      ]
     },
     "execution_count": 25,
     "metadata": {},
     "output_type": "execute_result"
    }
   ],
   "source": [
    "rows = foods_weights.select(\"table[border]  tr\")\n",
    "for food in rows:\n",
    "    name_food = food.select('tr td[align=\"right\"]')\n",
    "    if name_food:\n",
    "        merchandise = Merchandise()\n",
    "        merchandise.foods = name_food[3].get_text()\n",
    "        merchandise.weight = name_food[0].get_text()\n",
    "        merchandises[merchandise.foods] = [merchandise.weight]\n",
    "\n",
    "merchandises     "
   ]
  },
  {
   "cell_type": "code",
   "execution_count": null,
   "metadata": {},
   "outputs": [],
   "source": []
  },
  {
   "cell_type": "code",
   "execution_count": null,
   "metadata": {},
   "outputs": [],
   "source": []
  },
  {
   "cell_type": "code",
   "execution_count": null,
   "metadata": {},
   "outputs": [],
   "source": []
  },
  {
   "cell_type": "code",
   "execution_count": null,
   "metadata": {},
   "outputs": [],
   "source": []
  },
  {
   "cell_type": "code",
   "execution_count": null,
   "metadata": {},
   "outputs": [],
   "source": []
  },
  {
   "cell_type": "code",
   "execution_count": null,
   "metadata": {},
   "outputs": [],
   "source": []
  },
  {
   "cell_type": "code",
   "execution_count": 26,
   "metadata": {},
   "outputs": [
    {
     "ename": "NameError",
     "evalue": "name 'dictionry' is not defined",
     "output_type": "error",
     "traceback": [
      "\u001b[1;31m---------------------------------------------------------------------------\u001b[0m",
      "\u001b[1;31mNameError\u001b[0m                                 Traceback (most recent call last)",
      "\u001b[1;32m<ipython-input-26-64a9f66a87fa>\u001b[0m in \u001b[0;36m<module>\u001b[1;34m\u001b[0m\n\u001b[0;32m      4\u001b[0m     \u001b[0mname_macro\u001b[0m \u001b[1;33m=\u001b[0m \u001b[0mmacro\u001b[0m\u001b[1;33m.\u001b[0m\u001b[0mselect\u001b[0m\u001b[1;33m(\u001b[0m\u001b[1;34m'tr td[align=\"right\"]'\u001b[0m\u001b[1;33m)\u001b[0m\u001b[1;33m\u001b[0m\u001b[1;33m\u001b[0m\u001b[0m\n\u001b[0;32m      5\u001b[0m     \u001b[1;32mif\u001b[0m \u001b[0mname_macro\u001b[0m \u001b[1;32mand\u001b[0m \u001b[0mcounter\u001b[0m \u001b[1;33m!=\u001b[0m \u001b[1;36m12\u001b[0m\u001b[1;33m:\u001b[0m\u001b[1;33m\u001b[0m\u001b[1;33m\u001b[0m\u001b[0m\n\u001b[1;32m----> 6\u001b[1;33m         \u001b[0mmerchandise\u001b[0m \u001b[1;33m=\u001b[0m \u001b[0mdictionry\u001b[0m\u001b[1;33m.\u001b[0m\u001b[0mget\u001b[0m\u001b[1;33m(\u001b[0m\u001b[0mmerchandise\u001b[0m\u001b[1;33m.\u001b[0m\u001b[0mfoods\u001b[0m\u001b[1;33m)\u001b[0m\u001b[1;33m\u001b[0m\u001b[1;33m\u001b[0m\u001b[0m\n\u001b[0m\u001b[0;32m      7\u001b[0m         \u001b[0mmerchandise\u001b[0m\u001b[1;33m.\u001b[0m\u001b[0msaturated_fat\u001b[0m \u001b[1;33m=\u001b[0m \u001b[0mname_macro\u001b[0m\u001b[1;33m[\u001b[0m\u001b[1;36m2\u001b[0m\u001b[1;33m]\u001b[0m\u001b[1;33m.\u001b[0m\u001b[0mget_text\u001b[0m\u001b[1;33m(\u001b[0m\u001b[1;33m)\u001b[0m\u001b[1;33m\u001b[0m\u001b[1;33m\u001b[0m\u001b[0m\n\u001b[0;32m      8\u001b[0m         \u001b[0mmerchandise\u001b[0m\u001b[1;33m.\u001b[0m\u001b[0miron\u001b[0m \u001b[1;33m=\u001b[0m \u001b[0mname_macro\u001b[0m\u001b[1;33m[\u001b[0m\u001b[1;36m4\u001b[0m\u001b[1;33m]\u001b[0m\u001b[1;33m.\u001b[0m\u001b[0mget_text\u001b[0m\u001b[1;33m(\u001b[0m\u001b[1;33m)\u001b[0m\u001b[1;33m\u001b[0m\u001b[1;33m\u001b[0m\u001b[0m\n",
      "\u001b[1;31mNameError\u001b[0m: name 'dictionry' is not defined"
     ]
    }
   ],
   "source": [
    "rows = macro_clori_iron_Ca.select(\"table[border]  tr\")\n",
    "counter = 0\n",
    "for macro in rows:    \n",
    "    name_macro = macro.select('tr td[align=\"right\"]')\n",
    "    if name_macro and counter != 12:\n",
    "        merchandise = dictionry.get(merchandise.foods)\n",
    "        merchandise.saturated_fat = name_macro[2].get_text()\n",
    "        merchandise.iron = name_macro[4].get_text()\n",
    "        merchandise.Ca = name_macro[5].get_text()\n",
    "        merchandise.dietary_fiber = name_macro[8].get_text()\n",
    "        merchandise.carbohydrates = name_macro[11].get_text()\n",
    "        merchandise.fats = name_macro[12].get_text()\n",
    "        merchandise.protein = name_macro[13].get_text()\n",
    "        merchandise.cloris = name_macro[14].get_text()\n",
    "        merchandise.foods = name_macro[17]\n",
    "        merchandises[merchandise.foods]merchandise.cloris\n",
    "        merchandises[merchandise.foods].append(merchandise.protein)\n",
    "        merchandises[merchandise.foods].append(merchandise.fats)\n",
    "        merchandises[merchandise.foods].append(merchandise.carbohydrates)\n",
    "        merchandises[merchandise.foods].append(merchandise.dietary_fiber)\n",
    "        counter += 1\n",
    "        \n",
    "        \n",
    "merchandises"
   ]
  },
  {
   "cell_type": "code",
   "execution_count": null,
   "metadata": {},
   "outputs": [],
   "source": []
  },
  {
   "cell_type": "code",
   "execution_count": null,
   "metadata": {},
   "outputs": [],
   "source": []
  }
 ],
 "metadata": {
  "kernelspec": {
   "display_name": "Python 3",
   "language": "python",
   "name": "python3"
  },
  "language_info": {
   "codemirror_mode": {
    "name": "ipython",
    "version": 3
   },
   "file_extension": ".py",
   "mimetype": "text/x-python",
   "name": "python",
   "nbconvert_exporter": "python",
   "pygments_lexer": "ipython3",
   "version": "3.8.1"
  }
 },
 "nbformat": 4,
 "nbformat_minor": 4
}
