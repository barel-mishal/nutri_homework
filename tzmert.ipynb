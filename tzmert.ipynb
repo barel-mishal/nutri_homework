{
 "cells": [
  {
   "cell_type": "markdown",
   "metadata": {},
   "source": [
    "טבלה לחישוב ערכים תזונתיים עבור שיעורי הבית"
   ]
  },
  {
   "cell_type": "code",
   "execution_count": 1,
   "metadata": {},
   "outputs": [
    {
     "name": "stdout",
     "output_type": "stream",
     "text": [
      "Name, Major:\n",
      "Alexandra, English\n",
      "Andrew, Math\n",
      "Anna, English\n",
      "Becky, Art\n",
      "Benjamin, English\n",
      "Carl, Art\n",
      "Carrie, English\n",
      "Dorothy, Math\n",
      "Dylan, Math\n",
      "Edward, English\n",
      "Ellen, Physics\n",
      "Fiona, Art\n",
      "John, Physics\n",
      "Jonathan, Math\n",
      "Joseph, English\n",
      "Josephine, Math\n",
      "Karen, English\n",
      "Kevin, Physics\n",
      "Lisa, Art\n",
      "Mary, Physics\n",
      "Maureen, Physics\n",
      "Nick, Art\n",
      "Olivia, Physics\n",
      "Pamela, Math\n",
      "Patrick, Art\n",
      "Robert, English\n",
      "Sean, Physics\n",
      "Stacy, Math\n",
      "Thomas, Art\n",
      "Will, Math\n"
     ]
    }
   ],
   "source": [
    "from __future__ import print_function\n",
    "import pickle\n",
    "import os.path\n",
    "from googleapiclient.discovery import build\n",
    "from google_auth_oauthlib.flow import InstalledAppFlow\n",
    "from google.auth.transport.requests import Request\n",
    "\n",
    "# If modifying these scopes, delete the file token.pickle.\n",
    "SCOPES = ['https://www.googleapis.com/auth/spreadsheets.readonly']\n",
    "\n",
    "# The ID and range of a sample spreadsheet.\n",
    "SAMPLE_SPREADSHEET_ID = '1BxiMVs0XRA5nFMdKvBdBZjgmUUqptlbs74OgvE2upms'\n",
    "SAMPLE_RANGE_NAME = 'Class Data!A2:E'\n",
    "\n",
    "def main():\n",
    "    \"\"\"Shows basic usage of the Sheets API.\n",
    "    Prints values from a sample spreadsheet.\n",
    "    \"\"\"\n",
    "    creds = None\n",
    "    # The file token.pickle stores the user's access and refresh tokens, and is\n",
    "    # created automatically when the authorization flow completes for the first\n",
    "    # time.\n",
    "    if os.path.exists('token.pickle'):\n",
    "        with open('token.pickle', 'rb') as token:\n",
    "            creds = pickle.load(token)\n",
    "    # If there are no (valid) credentials available, let the user log in.\n",
    "    if not creds or not creds.valid:\n",
    "        if creds and creds.expired and creds.refresh_token:\n",
    "            creds.refresh(Request())\n",
    "        else:\n",
    "            flow = InstalledAppFlow.from_client_secrets_file(\n",
    "                'credentials.json', SCOPES)\n",
    "            creds = flow.run_local_server(port=0)\n",
    "        # Save the credentials for the next run\n",
    "        with open('token.pickle', 'wb') as token:\n",
    "            pickle.dump(creds, token)\n",
    "\n",
    "    service = build('sheets', 'v4', credentials=creds)\n",
    "\n",
    "    # Call the Sheets API\n",
    "    sheet = service.spreadsheets()\n",
    "    result = sheet.values().get(spreadsheetId=SAMPLE_SPREADSHEET_ID,\n",
    "                                range=SAMPLE_RANGE_NAME).execute()\n",
    "    values = result.get('values', [])\n",
    "\n",
    "    if not values:\n",
    "        print('No data found.')\n",
    "    else:\n",
    "        print('Name, Major:')\n",
    "        for row in values:\n",
    "            # Print columns A and E, which correspond to indices 0 and 4.\n",
    "            print('%s, %s' % (row[0], row[4]))\n",
    "\n",
    "if __name__ == '__main__':\n",
    "    main()"
   ]
  },
  {
   "cell_type": "code",
   "execution_count": 76,
   "metadata": {},
   "outputs": [],
   "source": [
    "from bs4 import BeautifulSoup"
   ]
  },
  {
   "cell_type": "code",
   "execution_count": 77,
   "metadata": {},
   "outputs": [],
   "source": [
    "class Merchandise():\n",
    "    pass\n",
    "merchandises = dict()\n",
    "merchandise = Merchandise() # עותק אחד בזיכרון של סחורות"
   ]
  },
  {
   "cell_type": "code",
   "execution_count": 78,
   "metadata": {},
   "outputs": [],
   "source": [
    "with open(\"html_files/0.html\", encoding=\"utf8\") as html_doc_0:\n",
    "    foods_weights = BeautifulSoup(html_doc_0, 'html.parser')  "
   ]
  },
  {
   "cell_type": "code",
   "execution_count": 79,
   "metadata": {},
   "outputs": [],
   "source": [
    "with open(\"html_files/1.html\", encoding=\"utf8\") as html_doc_1:\n",
    "    macro_clori_iron_Ca = BeautifulSoup(html_doc_1, 'html.parser')"
   ]
  },
  {
   "cell_type": "code",
   "execution_count": 80,
   "metadata": {},
   "outputs": [],
   "source": [
    "with open(\"html_files/2.html\", encoding=\"utf8\") as html_doc_2:\n",
    "    vitamins = BeautifulSoup(html_doc_2, 'html.parser')"
   ]
  },
  {
   "cell_type": "code",
   "execution_count": 81,
   "metadata": {},
   "outputs": [],
   "source": [
    "with open(\"html_files/3.html\", encoding=\"utf8\") as html_doc_3:\n",
    "    minarals = BeautifulSoup(html_doc_3, 'html.parser')"
   ]
  },
  {
   "cell_type": "code",
   "execution_count": 82,
   "metadata": {},
   "outputs": [],
   "source": [
    "merchandises = dict()\n"
   ]
  },
  {
   "cell_type": "code",
   "execution_count": 83,
   "metadata": {},
   "outputs": [],
   "source": [
    "class Merchandise():\n",
    "    pass\n",
    "number_of_item = 0\n",
    "rows = foods_weights.select(\"table[border]  tr\")\n",
    "for food in rows:\n",
    "    name_food = food.select('tr td[align=\"right\"]')\n",
    "    if name_food and name_food[3].get_text() != \"\":\n",
    "        merchandise = Merchandise()\n",
    "        merchandise.foods = name_food[3].get_text()\n",
    "        merchandise.weight = name_food[0].get_text()\n",
    "        merchandises[merchandise.foods] = [merchandise.weight]\n",
    "    else:\n",
    "        number_of_item = len(merchandises)"
   ]
  },
  {
   "cell_type": "code",
   "execution_count": 84,
   "metadata": {},
   "outputs": [],
   "source": [
    "class MacrosAndMicro():\n",
    "    pass\n",
    "rows = macro_clori_iron_Ca.select(\"table[border]  tr\")\n",
    "counter = 0\n",
    "for macro in rows:    \n",
    "    name_macro = macro.select('tr td[align=\"right\"]')\n",
    "    if name_macro and counter != number_of_item:\n",
    "        macro_and_micro = MacrosAndMicro()\n",
    "        macro_and_micro.saturated_fat = name_macro[2].get_text()\n",
    "        macro_and_micro.iron = name_macro[4].get_text()\n",
    "        macro_and_micro.Ca = name_macro[5].get_text()\n",
    "        macro_and_micro.dietary_fiber = name_macro[8].get_text()\n",
    "        macro_and_micro.carbohydrates = name_macro[11].get_text()\n",
    "        macro_and_micro.fats = name_macro[12].get_text()\n",
    "        macro_and_micro.protein = name_macro[13].get_text()\n",
    "        macro_and_micro.cloris = name_macro[14].get_text()\n",
    "        merchandises[list(merchandises.keys())[counter]].append(macro_and_micro)\n",
    "        counter += 1"
   ]
  },
  {
   "cell_type": "code",
   "execution_count": 85,
   "metadata": {},
   "outputs": [],
   "source": [
    "class Vitamin():\n",
    "    pass\n",
    "rows = macro_clori_iron_Ca.select(\"table[border]  tr\")\n",
    "counter = 0\n",
    "for v in rows:\n",
    "    vita = v.select('tr td[align=\"right\"]')\n",
    "    if vita and counter != number_of_item:\n",
    "        vitamin = Vitamin()\n",
    "        vitamin.A = vita[7].get_text()\n",
    "        merchandises[list(merchandises.keys())[counter]].append(vitamin)\n",
    "        counter += 1 "
   ]
  },
  {
   "cell_type": "code",
   "execution_count": 86,
   "metadata": {},
   "outputs": [],
   "source": [
    "class Mineral():\n",
    "    pass\n",
    "rows = minarals.select(\"table[border]  tr\")\n",
    "counter = 0\n",
    "for m in rows:\n",
    "    mineral = m.select('tr td[align=\"right\"]')\n",
    "    if mineral and counter != number_of_item:\n",
    "        minar = Mineral()\n",
    "        minar.Na = mineral[5].get_text()\n",
    "        minar.K = mineral[6].get_text()\n",
    "        minar.iron = mineral[9].get_text()\n",
    "        minar.Ca = mineral[10].get_text()\n",
    "        merchandises[list(merchandises.keys())[counter]].append(minar)\n",
    "        counter += 1 "
   ]
  },
  {
   "cell_type": "code",
   "execution_count": 87,
   "metadata": {},
   "outputs": [
    {
     "data": {
      "text/plain": [
       "{'מים ללא פירוט נוסף': ['633.',\n",
       "  <__main__.MacrosAndMicro at 0x5f87a78>,\n",
       "  <__main__.Vitamin at 0x5f87448>,\n",
       "  <__main__.Mineral at 0x5f877a8>],\n",
       " 'מלח': ['2.',\n",
       "  <__main__.MacrosAndMicro at 0x5dcac70>,\n",
       "  <__main__.Vitamin at 0x5e30c10>,\n",
       "  <__main__.Mineral at 0x5dca1c0>],\n",
       " 'שמן ליפתית - קנולה': ['12.',\n",
       "  <__main__.MacrosAndMicro at 0x5f87ac0>,\n",
       "  <__main__.Vitamin at 0x5f873b8>,\n",
       "  <__main__.Mineral at 0x5f87910>],\n",
       " 'חרדל': ['15.',\n",
       "  <__main__.MacrosAndMicro at 0x5f87af0>,\n",
       "  <__main__.Vitamin at 0x5f874c0>,\n",
       "  <__main__.Mineral at 0x5f879b8>],\n",
       " 'צימוקים, ללא חרצנים': ['50.',\n",
       "  <__main__.MacrosAndMicro at 0x5f87b20>,\n",
       "  <__main__.Vitamin at 0x5f874f0>,\n",
       "  <__main__.Mineral at 0x5f87970>],\n",
       " 'שמן זית': ['24.',\n",
       "  <__main__.MacrosAndMicro at 0x5f87b50>,\n",
       "  <__main__.Vitamin at 0x5f87550>,\n",
       "  <__main__.Mineral at 0x5f87a90>],\n",
       " 'בצל לבן או אדום, חי': ['269.',\n",
       "  <__main__.MacrosAndMicro at 0x5f87b80>,\n",
       "  <__main__.Vitamin at 0x5f87508>,\n",
       "  <__main__.Mineral at 0x5f87ca0>],\n",
       " 'קישואים, בהירים, חיים, ללא קליפה': ['262.',\n",
       "  <__main__.MacrosAndMicro at 0x5f87bb0>,\n",
       "  <__main__.Vitamin at 0x5f874a8>,\n",
       "  <__main__.Mineral at 0x5f87c40>],\n",
       " 'פלפל אדום, חי': ['260.',\n",
       "  <__main__.MacrosAndMicro at 0x5f76eb0>,\n",
       "  <__main__.Vitamin at 0x5f875b0>,\n",
       "  <__main__.Mineral at 0x5f87c88>],\n",
       " 'אורז מלא, לא מבושל': ['484.',\n",
       "  <__main__.MacrosAndMicro at 0x5f87bf8>,\n",
       "  <__main__.Vitamin at 0x5f875e0>,\n",
       "  <__main__.Mineral at 0x5f87ce8>],\n",
       " 'פירורי לחם, אסם': ['39.',\n",
       "  <__main__.MacrosAndMicro at 0x5f87c28>,\n",
       "  <__main__.Vitamin at 0x61ed0e8>,\n",
       "  <__main__.Mineral at 0x5f87d18>],\n",
       " 'בשר עוף, חזה מטוגן בשמן זית': ['550.',\n",
       "  <__main__.MacrosAndMicro at 0x5f87c58>,\n",
       "  <__main__.Vitamin at 0x5f87490>,\n",
       "  <__main__.Mineral at 0x5f87d48>]}"
      ]
     },
     "execution_count": 87,
     "metadata": {},
     "output_type": "execute_result"
    }
   ],
   "source": [
    "merchandises"
   ]
  },
  {
   "cell_type": "code",
   "execution_count": null,
   "metadata": {},
   "outputs": [],
   "source": []
  },
  {
   "cell_type": "code",
   "execution_count": null,
   "metadata": {},
   "outputs": [],
   "source": []
  },
  {
   "cell_type": "code",
   "execution_count": null,
   "metadata": {},
   "outputs": [],
   "source": []
  }
 ],
 "metadata": {
  "kernelspec": {
   "display_name": "Python 3",
   "language": "python",
   "name": "python3"
  },
  "language_info": {
   "codemirror_mode": {
    "name": "ipython",
    "version": 3
   },
   "file_extension": ".py",
   "mimetype": "text/x-python",
   "name": "python",
   "nbconvert_exporter": "python",
   "pygments_lexer": "ipython3",
   "version": "3.8.1"
  }
 },
 "nbformat": 4,
 "nbformat_minor": 4
}
