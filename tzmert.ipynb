{
 "cells": [
  {
   "cell_type": "markdown",
   "metadata": {},
   "source": [
    "טבלה לחישוב ערכים תזונתיים עבור שיעורי הבית"
   ]
  },
  {
   "cell_type": "code",
   "execution_count": 1,
   "metadata": {},
   "outputs": [
    {
     "name": "stdout",
     "output_type": "stream",
     "text": [
      "Name, Major:\n",
      "Alexandra, English\n",
      "Andrew, Math\n",
      "Anna, English\n",
      "Becky, Art\n",
      "Benjamin, English\n",
      "Carl, Art\n",
      "Carrie, English\n",
      "Dorothy, Math\n",
      "Dylan, Math\n",
      "Edward, English\n",
      "Ellen, Physics\n",
      "Fiona, Art\n",
      "John, Physics\n",
      "Jonathan, Math\n",
      "Joseph, English\n",
      "Josephine, Math\n",
      "Karen, English\n",
      "Kevin, Physics\n",
      "Lisa, Art\n",
      "Mary, Physics\n",
      "Maureen, Physics\n",
      "Nick, Art\n",
      "Olivia, Physics\n",
      "Pamela, Math\n",
      "Patrick, Art\n",
      "Robert, English\n",
      "Sean, Physics\n",
      "Stacy, Math\n",
      "Thomas, Art\n",
      "Will, Math\n"
     ]
    }
   ],
   "source": [
    "from __future__ import print_function\n",
    "import pickle\n",
    "import os.path\n",
    "from googleapiclient.discovery import build\n",
    "from google_auth_oauthlib.flow import InstalledAppFlow\n",
    "from google.auth.transport.requests import Request\n",
    "\n",
    "# If modifying these scopes, delete the file token.pickle.\n",
    "SCOPES = ['https://www.googleapis.com/auth/spreadsheets.readonly']\n",
    "\n",
    "# The ID and range of a sample spreadsheet.\n",
    "SAMPLE_SPREADSHEET_ID = '1BxiMVs0XRA5nFMdKvBdBZjgmUUqptlbs74OgvE2upms'\n",
    "SAMPLE_RANGE_NAME = 'Class Data!A2:E'\n",
    "\n",
    "def main():\n",
    "    \"\"\"Shows basic usage of the Sheets API.\n",
    "    Prints values from a sample spreadsheet.\n",
    "    \"\"\"\n",
    "    creds = None\n",
    "    # The file token.pickle stores the user's access and refresh tokens, and is\n",
    "    # created automatically when the authorization flow completes for the first\n",
    "    # time.\n",
    "    if os.path.exists('token.pickle'):\n",
    "        with open('token.pickle', 'rb') as token:\n",
    "            creds = pickle.load(token)\n",
    "    # If there are no (valid) credentials available, let the user log in.\n",
    "    if not creds or not creds.valid:\n",
    "        if creds and creds.expired and creds.refresh_token:\n",
    "            creds.refresh(Request())\n",
    "        else:\n",
    "            flow = InstalledAppFlow.from_client_secrets_file(\n",
    "                'credentials.json', SCOPES)\n",
    "            creds = flow.run_local_server(port=0)\n",
    "        # Save the credentials for the next run\n",
    "        with open('token.pickle', 'wb') as token:\n",
    "            pickle.dump(creds, token)\n",
    "\n",
    "    service = build('sheets', 'v4', credentials=creds)\n",
    "\n",
    "    # Call the Sheets API\n",
    "    sheet = service.spreadsheets()\n",
    "    result = sheet.values().get(spreadsheetId=SAMPLE_SPREADSHEET_ID,\n",
    "                                range=SAMPLE_RANGE_NAME).execute()\n",
    "    values = result.get('values', [])\n",
    "\n",
    "    if not values:\n",
    "        print('No data found.')\n",
    "    else:\n",
    "        print('Name, Major:')\n",
    "        for row in values:\n",
    "            # Print columns A and E, which correspond to indices 0 and 4.\n",
    "            print('%s, %s' % (row[0], row[4]))\n",
    "\n",
    "if __name__ == '__main__':\n",
    "    main()"
   ]
  },
  {
   "cell_type": "code",
   "execution_count": 19,
   "metadata": {},
   "outputs": [],
   "source": [
    "from bs4 import BeautifulSoup"
   ]
  },
  {
   "cell_type": "code",
   "execution_count": 45,
   "metadata": {},
   "outputs": [],
   "source": [
    "class Merchandise():\n",
    "    pass\n",
    "merchandises = []"
   ]
  },
  {
   "cell_type": "code",
   "execution_count": 54,
   "metadata": {},
   "outputs": [],
   "source": [
    "with open(\"html_files/0.html\", encoding=\"utf8\") as html_doc_0:\n",
    "    foods_Weights = BeautifulSoup(html_doc_0, 'html.parser')"
   ]
  },
  {
   "cell_type": "code",
   "execution_count": 55,
   "metadata": {},
   "outputs": [],
   "source": [
    "with open(\"html_files/1.html\", encoding=\"utf8\") as html_doc_1:\n",
    "    macro_clori_iron_Ca = BeautifulSoup(html_doc_1, 'html.parser')"
   ]
  },
  {
   "cell_type": "code",
   "execution_count": 56,
   "metadata": {},
   "outputs": [],
   "source": [
    "with open(\"html_files/2.html\", encoding=\"utf8\") as html_doc_2:\n",
    "    vitamins = BeautifulSoup(html_doc_2, 'html.parser')"
   ]
  },
  {
   "cell_type": "code",
   "execution_count": 57,
   "metadata": {},
   "outputs": [],
   "source": [
    "with open(\"html_files/3.html\", encoding=\"utf8\") as html_doc_3:\n",
    "    minarals = BeautifulSoup(html_doc_3, 'html.parser')"
   ]
  },
  {
   "cell_type": "code",
   "execution_count": 58,
   "metadata": {},
   "outputs": [
    {
     "name": "stdout",
     "output_type": "stream",
     "text": [
      "[<td class=\"content_style\"></td>, <td class=\"label_style\">סקר</td>, <td class=\"content_style\">2</td>, <td class=\"label_style\">:סידורי</td>]\n",
      "[<td class=\"content_style\"></td>, <td class=\"label_style\">:מספר נדגם</td>, <td class=\"content_style\">123456</td>, <td class=\"label_style\">:מספר מזהה </td>]\n",
      "[<td class=\"content_style\"> </td>, <td class=\"label_style\"></td>, <td class=\"content_style\"></td>, <td class=\"label_style\">:שם</td>]\n",
      "[<td class=\"content_style\"></td>, <td class=\"label_style\">:תאריך אכילה</td>, <td class=\"content_style\">נקבה</td>, <td class=\"label_style\">:מין</td>]\n",
      "[<td class=\"content_style\"></td>, <td class=\"label_style\">:שם המקליד</td>, <td class=\"content_style\"></td>, <td class=\"label_style\">:גליון</td>]\n",
      "[<td class=\"content_style\"></td>, <td class=\"label_style\">:תאריך הקלדה</td>, <td class=\"content_style\">01/01/2020</td>, <td class=\"label_style\">:תאריך לידה</td>]\n",
      "[<td class=\"content_style\"> </td>, <td class=\"label_style\"> </td>, <td class=\"content_style\"></td>, <td class=\"label_style\">:גובה</td>]\n",
      "[<td class=\"content_style\">0</td>, <td class=\"label_style\">:BMI</td>, <td class=\"content_style\"></td>, <td class=\"label_style\">:משקל</td>]\n",
      "[<td></td>, <td></td>, <td class=\"content_style\"> ,  - </td>, <td class=\"label_style\">:כתובת</td>]\n",
      "[<td class=\"content_style\"></td>, <td class=\"label_style\">:נייד</td>, <td class=\"content_style\"></td>, <td class=\"label_style\">:טלפון</td>]\n",
      "[<td width=\"33\"><td width=\"88\"><td width=\"33\"><td width=\"66\"><td width=\"143\"><td width=\"66\"><td width=\"143\"><td width=\"77\"><td width=\"110\"><td width=\"55\"></td></td></td></td></td></td></td></td></td></td>, <td width=\"88\"><td width=\"33\"><td width=\"66\"><td width=\"143\"><td width=\"66\"><td width=\"143\"><td width=\"77\"><td width=\"110\"><td width=\"55\"></td></td></td></td></td></td></td></td></td>, <td width=\"33\"><td width=\"66\"><td width=\"143\"><td width=\"66\"><td width=\"143\"><td width=\"77\"><td width=\"110\"><td width=\"55\"></td></td></td></td></td></td></td></td>, <td width=\"66\"><td width=\"143\"><td width=\"66\"><td width=\"143\"><td width=\"77\"><td width=\"110\"><td width=\"55\"></td></td></td></td></td></td></td>, <td width=\"143\"><td width=\"66\"><td width=\"143\"><td width=\"77\"><td width=\"110\"><td width=\"55\"></td></td></td></td></td></td>, <td width=\"66\"><td width=\"143\"><td width=\"77\"><td width=\"110\"><td width=\"55\"></td></td></td></td></td>, <td width=\"143\"><td width=\"77\"><td width=\"110\"><td width=\"55\"></td></td></td></td>, <td width=\"77\"><td width=\"110\"><td width=\"55\"></td></td></td>, <td width=\"110\"><td width=\"55\"></td></td>, <td width=\"55\"></td>]\n",
      "[<td></td>, <td></td>, <td></td>, <td></td>, <td></td>, <td></td>, <td></td>, <td></td>, <td></td>]\n",
      "[<td align=\"right\">633.</td>, <td align=\"right\">גרמים</td>, <td align=\"right\"></td>, <td>94000040</td>, <td align=\"right\" colspan=\"3\">מים ללא פירוט נוסף</td>, <td align=\"right\"></td>, <td align=\"right\"></td>, <td>00:00</td>]\n",
      "[<td align=\"right\">2.</td>, <td align=\"right\">גרמים</td>, <td align=\"right\"></td>, <td>91000000</td>, <td align=\"right\" colspan=\"3\">מלח</td>, <td align=\"right\"></td>, <td align=\"right\"></td>, <td>00:00</td>]\n",
      "[<td align=\"right\">12.</td>, <td align=\"right\">גרמים</td>, <td align=\"right\"></td>, <td>82105500</td>, <td align=\"right\" colspan=\"3\">שמן ליפתית - קנולה</td>, <td align=\"right\"></td>, <td align=\"right\"></td>, <td>00:00</td>]\n",
      "[<td align=\"right\">15.</td>, <td align=\"right\">גרמים</td>, <td align=\"right\"></td>, <td>75506010</td>, <td align=\"right\" colspan=\"3\">חרדל</td>, <td align=\"right\"></td>, <td align=\"right\"></td>, <td>00:00</td>]\n",
      "[<td align=\"right\">50.</td>, <td align=\"right\">גרמים</td>, <td align=\"right\"></td>, <td>62125100</td>, <td align=\"right\" colspan=\"3\">צימוקים, ללא חרצנים</td>, <td align=\"right\"></td>, <td align=\"right\"></td>, <td>00:00</td>]\n",
      "[<td align=\"right\">24.</td>, <td align=\"right\">גרמים</td>, <td align=\"right\"></td>, <td>82104000</td>, <td align=\"right\" colspan=\"3\">שמן זית</td>, <td align=\"right\"></td>, <td align=\"right\"></td>, <td>00:00</td>]\n",
      "[<td align=\"right\">269.</td>, <td align=\"right\">גרמים</td>, <td align=\"right\"></td>, <td>75117020</td>, <td align=\"right\" colspan=\"3\">בצל לבן או אדום, חי</td>, <td align=\"right\"></td>, <td align=\"right\"></td>, <td>00:00</td>]\n",
      "[<td align=\"right\">262.</td>, <td align=\"right\">גרמים</td>, <td align=\"right\"></td>, <td>75128000</td>, <td align=\"right\" colspan=\"3\">קישואים, בהירים, חיים, ללא קליפה</td>, <td align=\"right\"></td>, <td align=\"right\"></td>, <td>00:00</td>]\n",
      "[<td align=\"right\">260.</td>, <td align=\"right\">גרמים</td>, <td align=\"right\"></td>, <td>75122200</td>, <td align=\"right\" colspan=\"3\">פלפל אדום, חי</td>, <td align=\"right\"></td>, <td align=\"right\"></td>, <td>00:00</td>]\n",
      "[<td align=\"right\">484.</td>, <td align=\"right\">גרמים</td>, <td align=\"right\"></td>, <td>56205100</td>, <td align=\"right\" colspan=\"3\">אורז מלא, לא מבושל</td>, <td align=\"right\"></td>, <td align=\"right\"></td>, <td>00:00</td>]\n",
      "[<td align=\"right\">39.</td>, <td align=\"right\">גרמים</td>, <td align=\"right\"></td>, <td>51185029</td>, <td align=\"right\" colspan=\"3\">פירורי לחם, אסם</td>, <td align=\"right\"></td>, <td align=\"right\"></td>, <td>00:00</td>]\n",
      "[<td align=\"right\">550.</td>, <td align=\"right\">גרמים</td>, <td align=\"right\"></td>, <td>24127148</td>, <td align=\"right\" colspan=\"3\">בשר עוף, חזה מטוגן בשמן זית</td>, <td align=\"right\"></td>, <td align=\"right\"></td>, <td>00:00</td>]\n",
      "[<td align=\"right\">1.</td>, <td align=\"right\">גרמים</td>, <td align=\"right\"></td>, <td></td>, <td align=\"right\" colspan=\"3\"></td>, <td align=\"right\"></td>, <td align=\"right\"></td>, <td>00:00</td>]\n"
     ]
    }
   ],
   "source": [
    "rows = foods_Weights.select(\"tr\")\n",
    "for food in rows:\n",
    "    name_food = food.select(\"tr td\")\n",
    "    if name_food:\n",
    "        merchandise = Merchandise()\n",
    "        print(name_food)"
   ]
  },
  {
   "cell_type": "code",
   "execution_count": null,
   "metadata": {},
   "outputs": [],
   "source": []
  }
 ],
 "metadata": {
  "kernelspec": {
   "display_name": "Python 3",
   "language": "python",
   "name": "python3"
  },
  "language_info": {
   "codemirror_mode": {
    "name": "ipython",
    "version": 3
   },
   "file_extension": ".py",
   "mimetype": "text/x-python",
   "name": "python",
   "nbconvert_exporter": "python",
   "pygments_lexer": "ipython3",
   "version": "3.8.1"
  }
 },
 "nbformat": 4,
 "nbformat_minor": 4
}
